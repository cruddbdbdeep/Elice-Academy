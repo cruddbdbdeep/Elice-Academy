{
 "cells": [
  {
   "cell_type": "markdown",
   "metadata": {},
   "source": [
    "# Linear Regression using Gradient Descent"
   ]
  },
  {
   "cell_type": "code",
   "execution_count": 1,
   "metadata": {},
   "outputs": [],
   "source": [
    "import numpy as np\n",
    "import pandas as pd\n",
    "import matplotlib as mpl\n",
    "import matplotlib.pyplot as plt\n",
    "\n",
    "%matplotlib inline"
   ]
  },
  {
   "cell_type": "code",
   "execution_count": 2,
   "metadata": {},
   "outputs": [],
   "source": [
    "data_x = np.loadtxt('./data/data_X.txt')"
   ]
  },
  {
   "cell_type": "code",
   "execution_count": 3,
   "metadata": {},
   "outputs": [],
   "source": [
    "data_y = np.loadtxt('./data/data_Y.txt')"
   ]
  },
  {
   "cell_type": "code",
   "execution_count": 4,
   "metadata": {},
   "outputs": [
    {
     "data": {
      "text/plain": [
       "(1000,)"
      ]
     },
     "execution_count": 4,
     "metadata": {},
     "output_type": "execute_result"
    }
   ],
   "source": [
    "data_x.shape"
   ]
  },
  {
   "cell_type": "code",
   "execution_count": 5,
   "metadata": {
    "scrolled": true
   },
   "outputs": [
    {
     "data": {
      "text/plain": [
       "(1000,)"
      ]
     },
     "execution_count": 5,
     "metadata": {},
     "output_type": "execute_result"
    }
   ],
   "source": [
    "data_y.shape"
   ]
  },
  {
   "cell_type": "code",
   "execution_count": 6,
   "metadata": {
    "scrolled": false
   },
   "outputs": [
    {
     "data": {
      "text/plain": [
       "<matplotlib.collections.PathCollection at 0x24bd87a1550>"
      ]
     },
     "execution_count": 6,
     "metadata": {},
     "output_type": "execute_result"
    },
    {
     "data": {
      "image/png": "[encoded data removed]",
      "text/plain": [
       "<Figure size 432x288 with 1 Axes>"
      ]
     },
     "metadata": {},
     "output_type": "display_data"
    }
   ],
   "source": [
    "plt.scatter(data_x, data_y)"
   ]
  },
  {
   "cell_type": "markdown",
   "metadata": {},
   "source": [
    "### Prediction\n",
    "input  \n",
    "    weight: 현재 weight\n",
    "    bias: 현재 bias\n",
    "    X : feature data\n",
    "\n",
    "output  \n",
    "    pred: 예측값"
   ]
  },
  {
   "cell_type": "code",
   "execution_count": 7,
   "metadata": {},
   "outputs": [],
   "source": [
    "def prediction(weight, bias, X):\n",
    "    pred = weight*X + bias\n",
    "    return pred"
   ]
  },
  {
   "cell_type": "markdown",
   "metadata": {},
   "source": [
    "### Loss Function\n",
    "input  \n",
    "    pred: 예측값\n",
    "    Y : label data\n",
    "\n",
    "return  \n",
    "    loss_val: loss 값"
   ]
  },
  {
   "cell_type": "code",
   "execution_count": 8,
   "metadata": {},
   "outputs": [],
   "source": [
    "def loss_func(pred, Y):\n",
    "    loss_val = sum((pred-Y)**2)/1000\n",
    "    return loss_val"
   ]
  },
  {
   "cell_type": "markdown",
   "metadata": {},
   "source": [
    "### Gradient Descent\n",
    "linear regression의 weight와 bias gradient 값 계산\n",
    "    'grad_w = ' / 'grad_b = ' 부분을 작성하시면 됩니다.\n",
    "\n",
    "input  \n",
    "    pred: 예측값\n",
    "    X : feature data\n",
    "    Y : label data\n",
    "\n",
    "return  \n",
    "    grad_w : weight의 gradient 값\n",
    "    grad_b : bias의 gradient 값"
   ]
  },
  {
   "cell_type": "code",
   "execution_count": 9,
   "metadata": {},
   "outputs": [],
   "source": [
    "def get_gradient(pred, X, Y):\n",
    "    grad_w = 2*sum(X * (pred - Y))/1000\n",
    "    grad_b = 2*sum(pred - Y)/1000\n",
    "    return grad_w, grad_b"
   ]
  },
  {
   "cell_type": "code",
   "execution_count": 10,
   "metadata": {},
   "outputs": [],
   "source": [
    "learning_rate = 0.001\n",
    "weight = np.random.rand(1)\n",
    "bias = np.random.rand(1)"
   ]
  },
  {
   "cell_type": "code",
   "execution_count": 11,
   "metadata": {
    "scrolled": true
   },
   "outputs": [
    {
     "name": "stdout",
     "output_type": "stream",
     "text": [
      "iter num: 0  loss: 37.5447\n",
      "iter num: 1000  loss: 0.8326\n",
      "iter num: 2000  loss: 0.3390\n",
      "iter num: 3000  loss: 0.1417\n",
      "iter num: 4000  loss: 0.0628\n",
      "iter num: 5000  loss: 0.0313\n",
      "iter num: 6000  loss: 0.0187\n",
      "iter num: 7000  loss: 0.0136\n",
      "iter num: 8000  loss: 0.0116\n",
      "iter num: 9000  loss: 0.0108\n",
      "trained weight: 2.0097\n",
      "trained bias: 3.9678\n"
     ]
    }
   ],
   "source": [
    "for i in range(10000):\n",
    "    pred = prediction(weight, bias, data_x)\n",
    "    loss = loss_func(pred, data_y)\n",
    "    grad_w, grad_b = get_gradient(pred, data_x, data_y)\n",
    "\n",
    "    '''\n",
    "    gradient descent 식을 이용하여 weight, bias를 update 하시오.\n",
    "\n",
    "    'weight = ' / 'bias = ' 부분을 작성하시면 됩니다.\n",
    "    '''\n",
    "    weight = weight - learning_rate*grad_w\n",
    "    bias = bias - learning_rate*grad_b\n",
    "\n",
    "    # 여기서 부터는 수정하지 마세요.\n",
    "    if i % 1000 == 0:\n",
    "        # iteration이 진행되면서, loss가 줄어드는 것을 체크하세요!\n",
    "        print('iter num: %d  loss: %.4f' % (i, loss))\n",
    "        \n",
    "print('trained weight: %.4f' % weight)\n",
    "print('trained bias: %.4f' % bias)"
   ]
  }
 ],
 "metadata": {
  "kernelspec": {
   "display_name": "Python 3",
   "language": "python",
   "name": "python3"
  },
  "language_info": {
   "codemirror_mode": {
    "name": "ipython",
    "version": 3
   },
   "file_extension": ".py",
   "mimetype": "text/x-python",
   "name": "python",
   "nbconvert_exporter": "python",
   "pygments_lexer": "ipython3",
   "version": "3.6.5"
  }
 },
 "nbformat": 4,
 "nbformat_minor": 1
}
